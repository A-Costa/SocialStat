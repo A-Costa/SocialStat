{
 "cells": [
  {
   "cell_type": "code",
   "execution_count": null,
   "metadata": {},
   "outputs": [],
   "source": [
    "import pandas as pd\n",
    "import matplotlib.pyplot as plt\n",
    "import numpy as np\n",
    "\n",
    "plt.rcParams['figure.figsize'] = [10, 8]"
   ]
  },
  {
   "cell_type": "code",
   "execution_count": null,
   "metadata": {},
   "outputs": [],
   "source": [
    "df = pd.read_excel('complete_dataset.xlsx', names = ['Company', 'Post', 'Video1/Image0', 'Timestamp', 'Likes', 'Love',\n",
    "       'Haha', 'Wow', 'Sad', 'Angry', '# comments', '# shares', 'Comment 1',\n",
    "       'Likes of comment 1', 'Comment 2', 'Likes of comment 2', 'Post URL'])"
   ]
  },
  {
   "cell_type": "code",
   "execution_count": null,
   "metadata": {},
   "outputs": [],
   "source": [
    "# This prints the names of the companis\n",
    "\n",
    "df['Company'].unique()"
   ]
  },
  {
   "cell_type": "code",
   "execution_count": null,
   "metadata": {
    "scrolled": true
   },
   "outputs": [],
   "source": [
    "# This selects and prints the LIKES for a given company (in this case Wendy's)\n",
    "\n",
    "likes = df[df['Company'] == 'Wendy\\'s']['Likes']\n",
    "likes.values"
   ]
  },
  {
   "cell_type": "code",
   "execution_count": null,
   "metadata": {},
   "outputs": [],
   "source": []
  },
  {
   "cell_type": "code",
   "execution_count": null,
   "metadata": {
    "scrolled": true
   },
   "outputs": [],
   "source": [
    "#Data Preparation for stacked barchart\n",
    "\n",
    "for company in df['Company'].unique():\n",
    "    reactions = df[df['Company'] == company][['Likes', 'Love', 'Haha', 'Wow', 'Sad', 'Angry']]\n",
    "    print(company)\n",
    "    print(reactions.sum() / reactions.sum().sum())\n",
    "    print(\"####################\")\n",
    "    "
   ]
  },
  {
   "cell_type": "code",
   "execution_count": null,
   "metadata": {},
   "outputs": [],
   "source": [
    "#Data Preparation for stacked barchart\n",
    "likes = []\n",
    "love = []\n",
    "haha = []\n",
    "wow = []\n",
    "sad = []\n",
    "angry = []\n",
    "\n",
    "for company in df['Company'].unique():\n",
    "    reactions = df[df['Company'] == company][['Likes', 'Love', 'Haha', 'Wow', 'Sad', 'Angry']]\n",
    "    #print(company)\n",
    "    likes.append((reactions.sum() / reactions.sum().sum())['Likes'])\n",
    "    love.append((reactions.sum() / reactions.sum().sum())['Love'])\n",
    "    haha.append((reactions.sum() / reactions.sum().sum())['Haha'])\n",
    "    wow.append((reactions.sum() / reactions.sum().sum())['Wow'])\n",
    "    sad.append((reactions.sum() / reactions.sum().sum())['Sad'])\n",
    "    angry.append((reactions.sum() / reactions.sum().sum())['Angry'])\n",
    "\n",
    "    #print(\"####################\")\n",
    "    "
   ]
  },
  {
   "cell_type": "code",
   "execution_count": null,
   "metadata": {},
   "outputs": [],
   "source": [
    "for elem in angry:\n",
    "    print('{0:.3},'.format(elem))"
   ]
  },
  {
   "cell_type": "code",
   "execution_count": null,
   "metadata": {},
   "outputs": [],
   "source": []
  },
  {
   "cell_type": "code",
   "execution_count": null,
   "metadata": {},
   "outputs": [],
   "source": []
  },
  {
   "cell_type": "code",
   "execution_count": null,
   "metadata": {},
   "outputs": [],
   "source": []
  },
  {
   "cell_type": "code",
   "execution_count": null,
   "metadata": {},
   "outputs": [],
   "source": []
  },
  {
   "cell_type": "code",
   "execution_count": null,
   "metadata": {
    "scrolled": false
   },
   "outputs": [],
   "source": [
    "# EXAMPLE boxplot\n",
    "\n",
    "data = []\n",
    "labels = []\n",
    "for company, likes in df.groupby('Company')['Likes']:\n",
    "    data.append(likes)\n",
    "    labels.append(company)\n",
    "fig1, ax1 = plt.subplots()\n",
    "#ax1.set_title('')\n",
    "ax1.boxplot(data, labels=labels, showfliers=False, notch=True)\n",
    "plt.show()"
   ]
  },
  {
   "cell_type": "code",
   "execution_count": null,
   "metadata": {},
   "outputs": [],
   "source": [
    "# EXAMPLE boxplot\n",
    "\n",
    "'''\n",
    "spread = np.random.rand(50) * 100\n",
    "center = np.ones(1) * -50\n",
    "data = np.concatenate((spread, center))\n",
    "'''\n",
    "\n",
    "data = df[df['Company'] == 'Burger King']['Likes']\n",
    "\n",
    "fig1, ax1 = plt.subplots()\n",
    "ax1.set_title('Basic Plot')\n",
    "ax1.boxplot(data)\n"
   ]
  }
 ],
 "metadata": {
  "kernelspec": {
   "display_name": "Python 3",
   "language": "python",
   "name": "python3"
  },
  "language_info": {
   "codemirror_mode": {
    "name": "ipython",
    "version": 3
   },
   "file_extension": ".py",
   "mimetype": "text/x-python",
   "name": "python",
   "nbconvert_exporter": "python",
   "pygments_lexer": "ipython3",
   "version": "3.7.1"
  }
 },
 "nbformat": 4,
 "nbformat_minor": 2
}
